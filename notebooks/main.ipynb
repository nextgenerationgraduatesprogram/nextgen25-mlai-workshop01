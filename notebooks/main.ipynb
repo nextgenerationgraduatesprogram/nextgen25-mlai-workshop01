{
 "cells": [
  {
   "cell_type": "code",
   "execution_count": 5,
   "id": "2020ad2c",
   "metadata": {},
   "outputs": [
    {
     "name": "stderr",
     "output_type": "stream",
     "text": [
      "'unzip' is not recognized as an internal or external command,\n",
      "operable program or batch file.\n",
      "'rm' is not recognized as an internal or external command,\n",
      "operable program or batch file.\n",
      "'mv' is not recognized as an internal or external command,\n",
      "operable program or batch file.\n",
      "'rm' is not recognized as an internal or external command,\n",
      "operable program or batch file.\n"
     ]
    }
   ],
   "source": [
    "# Fetch utils directory from GitHub repo (workaround for using the utils in colab)\n",
    "!curl -sL https://github.com/nextgenerationgraduatesprogram/nextgen25-mlai-workshop01/archive/refs/heads/main.zip -o repo.zip\n",
    "!unzip -q repo.zip \"nextgen25-mlai-workshop01-main/utils/*\" -d .\n",
    "!rm -rf ./utils\n",
    "!mv nextgen25-mlai-workshop01-main/utils ./utils -f\n",
    "!rm -rf nextgen25-mlai-workshop01-main repo.zip"
   ]
  },
  {
   "cell_type": "markdown",
   "id": "565dcb4d",
   "metadata": {},
   "source": [
    "<h1>Machine Learning Workshop: ...</h1>"
   ]
  },
  {
   "cell_type": "markdown",
   "id": "14d4bda5",
   "metadata": {},
   "source": [
    "<h2>📈 What are functions and why should I care?</h2>"
   ]
  },
  {
   "cell_type": "markdown",
   "id": "08240d14",
   "metadata": {},
   "source": [
    "<img src=\"https://github.com/nextgenerationgraduatesprogram/nextgen25-mlai-workshop01/media/_DEV.jpg\" width=\"400\"/>"
   ]
  },
  {
   "cell_type": "markdown",
   "id": "6c3859c5",
   "metadata": {},
   "source": [
    "<h2>"
   ]
  },
  {
   "cell_type": "code",
   "execution_count": null,
   "id": "ab07b353",
   "metadata": {},
   "outputs": [],
   "source": []
  }
 ],
 "metadata": {
  "kernelspec": {
   "display_name": ".venv",
   "language": "python",
   "name": "python3"
  },
  "language_info": {
   "codemirror_mode": {
    "name": "ipython",
    "version": 3
   },
   "file_extension": ".py",
   "mimetype": "text/x-python",
   "name": "python",
   "nbconvert_exporter": "python",
   "pygments_lexer": "ipython3",
   "version": "3.10.17"
  }
 },
 "nbformat": 4,
 "nbformat_minor": 5
}
